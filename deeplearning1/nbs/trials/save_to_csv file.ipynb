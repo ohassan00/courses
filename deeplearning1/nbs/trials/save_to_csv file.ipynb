{
 "cells": [
  {
   "cell_type": "code",
   "execution_count": 1,
   "metadata": {
    "collapsed": true
   },
   "outputs": [],
   "source": [
    "import numpy as np"
   ]
  },
  {
   "cell_type": "code",
   "execution_count": 33,
   "metadata": {
    "collapsed": false
   },
   "outputs": [],
   "source": [
    "row1 = 'Id, Prob'\n",
    "col1 = np.array([1, 2, 3, 4])\n",
    "col2 = np.array([0.3435, 0.75764, 0.9888, 0.121234])\n",
    "a = zip(col1, col2)\n",
    "\n",
    "np.savetxt('test.csv', list(a), fmt='%0.3f', header='Id, prob', delimiter=\",\")"
   ]
  },
  {
   "cell_type": "code",
   "execution_count": 26,
   "metadata": {
    "collapsed": false
   },
   "outputs": [
    {
     "data": {
      "text/plain": [
       "[(1, 0.34350000000000003),\n",
       " (2, 0.75763999999999998),\n",
       " (3, 0.98880000000000001),\n",
       " (4, 0.12123399999999999)]"
      ]
     },
     "execution_count": 26,
     "metadata": {},
     "output_type": "execute_result"
    }
   ],
   "source": [
    "a =zip(col1, col2)\n",
    "list(a)"
   ]
  },
  {
   "cell_type": "code",
   "execution_count": 35,
   "metadata": {
    "collapsed": true
   },
   "outputs": [],
   "source": [
    "import pandas as pd\n",
    "def kaggle_csv(filenames, dog_probs):\n",
    "    \"\"\"\n",
    "    Create csv submission file according to dogs vs cats redux competition\n",
    "    For each image in the test set, write row with two cells:\n",
    "    First cell has the id of the image.\n",
    "    Second cell has the probability that image is a dog.\n",
    "    \"\"\"\n",
    "ids = ids_from_filenames(filenames)\n",
    "\n",
    "df = pd.DataFrame({\"id\": ids, \"label\": dog_probs})\n",
    "df.to_csv(\"test2.csv\", index=False)"
   ]
  },
  {
   "cell_type": "code",
   "execution_count": null,
   "metadata": {
    "collapsed": true
   },
   "outputs": [],
   "source": []
  }
 ],
 "metadata": {
  "anaconda-cloud": {},
  "kernelspec": {
   "display_name": "Python [default]",
   "language": "python",
   "name": "python3"
  },
  "language_info": {
   "codemirror_mode": {
    "name": "ipython",
    "version": 3
   },
   "file_extension": ".py",
   "mimetype": "text/x-python",
   "name": "python",
   "nbconvert_exporter": "python",
   "pygments_lexer": "ipython3",
   "version": "3.5.2"
  }
 },
 "nbformat": 4,
 "nbformat_minor": 1
}
