{
 "cells": [
  {
   "cell_type": "markdown",
   "metadata": {},
   "source": [
    "# Downloading Dogs vs Cats data, and adding more samples to sample directory"
   ]
  },
  {
   "cell_type": "code",
   "execution_count": 2,
   "metadata": {
    "collapsed": false,
    "scrolled": true
   },
   "outputs": [
    {
     "name": "stdout",
     "output_type": "stream",
     "text": [
      "/gpfs/global_fs01/sym_shared/YPProdSpark/user/s7c0-1e5ad2b4d891fd-5791133ac135/notebook/work/fastai_courses/deeplearning1\n"
     ]
    }
   ],
   "source": [
    "%cd ./fastai_courses/deeplearning1"
   ]
  },
  {
   "cell_type": "code",
   "execution_count": 3,
   "metadata": {
    "collapsed": true
   },
   "outputs": [
    {
     "name": "stdout",
     "output_type": "stream",
     "text": [
      "/gpfs/global_fs01/sym_shared/YPProdSpark/user/s7c0-1e5ad2b4d891fd-5791133ac135/notebook/work/fastai_courses/deeplearning1/nbs\n",
      "char-rnn.ipynb           core.47422                lesson7.ipynb\n",
      "convolution-intro.ipynb  core.5301                 mnist.ipynb\n",
      "core.14174               core.8399                 \u001b[0m\u001b[01;34m__pycache__\u001b[0m/\n",
      "core.1853                core.8945                 \u001b[01;32mresnet50.py\u001b[0m*\n",
      "core.19940               \u001b[01;34mdata\u001b[0m/                     \u001b[01;32mrun.sh\u001b[0m*\n",
      "core.21738               dogscats-ensemble.ipynb   sgd-intro.ipynb\n",
      "core.26097               \u001b[01;32mdogs_cats_redux.ipynb\u001b[0m*    statefarm.ipynb\n",
      "core.2797                imagenet_batchnorm.ipynb  statefarm-sample.ipynb\n",
      "core.2801                \u001b[01;32minit.sh\u001b[0m*                  \u001b[01;32mutils.py\u001b[0m*\n",
      "core.30353               lesson1.ipynb             utils.pyc\n",
      "core.3262                lesson2.ipynb             \u001b[01;32mvgg16bn.py\u001b[0m*\n",
      "core.41146               lesson3.ipynb             vgg16bn.pyc\n",
      "core.41594               lesson4.ipynb             \u001b[01;32mvgg16.py\u001b[0m*\n",
      "core.42140               lesson5.ipynb             vgg16.pyc\n",
      "core.42587               lesson6.ipynb             wordvectors.ipynb\n"
     ]
    }
   ],
   "source": [
    "%cd nbs\n",
    "%ls"
   ]
  },
  {
   "cell_type": "code",
   "execution_count": 86,
   "metadata": {
    "collapsed": true
   },
   "outputs": [],
   "source": [
    "!mkdir data"
   ]
  },
  {
   "cell_type": "code",
   "execution_count": 4,
   "metadata": {
    "collapsed": false,
    "scrolled": true
   },
   "outputs": [
    {
     "name": "stdout",
     "output_type": "stream",
     "text": [
      "/gpfs/global_fs01/sym_shared/YPProdSpark/user/s7c0-1e5ad2b4d891fd-5791133ac135/notebook/work/fastai_courses/deeplearning1/nbs/data\n"
     ]
    }
   ],
   "source": [
    "% cd data"
   ]
  },
  {
   "cell_type": "markdown",
   "metadata": {},
   "source": [
    "## Download and unzip data "
   ]
  },
  {
   "cell_type": "code",
   "execution_count": 102,
   "metadata": {
    "collapsed": false
   },
   "outputs": [
    {
     "name": "stdout",
     "output_type": "stream",
     "text": [
      "--2017-09-12 07:26:57--  http://files.fast.ai/data/dogscats.zip\n",
      "Resolving files.fast.ai (files.fast.ai)... 67.205.15.147\n",
      "Connecting to files.fast.ai (files.fast.ai)|67.205.15.147|:80... connected.\n",
      "HTTP request sent, awaiting response... 200 OK\n",
      "Length: 857214334 (818M) [application/zip]\n",
      "Saving to: ‘dogscats.zip’\n",
      "\n",
      "100%[======================================>] 857,214,334 8.32MB/s   in 1m 42s \n",
      "\n",
      "2017-09-12 07:28:39 (8.04 MB/s) - ‘dogscats.zip’ saved [857214334/857214334]\n",
      "\n"
     ]
    }
   ],
   "source": [
    "!wget --no-check http://files.fast.ai/data/dogscats.zip"
   ]
  },
  {
   "cell_type": "code",
   "execution_count": 103,
   "metadata": {
    "collapsed": true
   },
   "outputs": [],
   "source": [
    "!unzip -q dogscats.zip"
   ]
  },
  {
   "cell_type": "code",
   "execution_count": 104,
   "metadata": {
    "collapsed": false
   },
   "outputs": [
    {
     "name": "stdout",
     "output_type": "stream",
     "text": [
      "models\tsample\ttest1  train  valid\r\n"
     ]
    }
   ],
   "source": [
    "!ls dogscats"
   ]
  },
  {
   "cell_type": "code",
   "execution_count": 105,
   "metadata": {
    "collapsed": true
   },
   "outputs": [],
   "source": [
    "rm dogscats.zip"
   ]
  },
  {
   "cell_type": "code",
   "execution_count": 5,
   "metadata": {
    "collapsed": false
   },
   "outputs": [
    {
     "name": "stdout",
     "output_type": "stream",
     "text": [
      "/gpfs/global_fs01/sym_shared/YPProdSpark/user/s7c0-1e5ad2b4d891fd-5791133ac135/notebook/work/fastai_courses/deeplearning1/nbs/data/dogscats\n"
     ]
    }
   ],
   "source": [
    "cd dogscats"
   ]
  },
  {
   "cell_type": "code",
   "execution_count": 107,
   "metadata": {
    "collapsed": false
   },
   "outputs": [
    {
     "name": "stdout",
     "output_type": "stream",
     "text": [
      "11500\r\n"
     ]
    }
   ],
   "source": [
    "!ls -1 train/dogs | wc -l"
   ]
  },
  {
   "cell_type": "code",
   "execution_count": 108,
   "metadata": {
    "collapsed": false
   },
   "outputs": [
    {
     "name": "stdout",
     "output_type": "stream",
     "text": [
      "11500\r\n"
     ]
    }
   ],
   "source": [
    "!ls -1 train/cats | wc -l"
   ]
  },
  {
   "cell_type": "code",
   "execution_count": 109,
   "metadata": {
    "collapsed": false
   },
   "outputs": [
    {
     "name": "stdout",
     "output_type": "stream",
     "text": [
      "1000\r\n"
     ]
    }
   ],
   "source": [
    "!ls -1 valid/cats | wc -l"
   ]
  },
  {
   "cell_type": "code",
   "execution_count": 118,
   "metadata": {
    "collapsed": false
   },
   "outputs": [
    {
     "name": "stdout",
     "output_type": "stream",
     "text": [
      "12500\r\n"
     ]
    }
   ],
   "source": [
    "!ls -1 test1 | wc -l"
   ]
  },
  {
   "cell_type": "code",
   "execution_count": 2,
   "metadata": {
    "collapsed": false
   },
   "outputs": [
    {
     "name": "stdout",
     "output_type": "stream",
     "text": [
      "/gpfs/global_fs01/sym_shared/YPProdSpark/user/s7c0-1e5ad2b4d891fd-5791133ac135/notebook/work/fastai_courses/deeplearning1/nbs/data\n",
      "\u001b[0m\u001b[01;34mdogscats\u001b[0m/\r\n"
     ]
    }
   ],
   "source": [
    "%cd ./fastai_courses/deeplearning1/nbs/data\n",
    "%ls -p"
   ]
  },
  {
   "cell_type": "code",
   "execution_count": 112,
   "metadata": {
    "collapsed": false
   },
   "outputs": [
    {
     "name": "stdout",
     "output_type": "stream",
     "text": [
      "8\n",
      "8\n"
     ]
    }
   ],
   "source": [
    "!ls -1 sample/train/cats | wc -l\n",
    "!ls -1 sample/train/dogs | wc -l"
   ]
  },
  {
   "cell_type": "code",
   "execution_count": 113,
   "metadata": {
    "collapsed": false
   },
   "outputs": [
    {
     "name": "stdout",
     "output_type": "stream",
     "text": [
      "4\n",
      "4\n"
     ]
    }
   ],
   "source": [
    "!ls -1 sample/valid/cats | wc -l\n",
    "!ls -1 sample/valid/dogs | wc -l"
   ]
  },
  {
   "cell_type": "markdown",
   "metadata": {},
   "source": [
    "## Add more samples to sample directory"
   ]
  },
  {
   "cell_type": "code",
   "execution_count": 114,
   "metadata": {
    "collapsed": true
   },
   "outputs": [],
   "source": [
    "!rm -r sample\n",
    "!mkdir sample"
   ]
  },
  {
   "cell_type": "code",
   "execution_count": 115,
   "metadata": {
    "collapsed": true
   },
   "outputs": [],
   "source": [
    "!mkdir sample/train\n",
    "!mkdir sample/train/dogs\n",
    "!mkdir sample/train/cats\n",
    "!mkdir sample/valid\n",
    "!mkdir sample/valid/dogs\n",
    "!mkdir sample/valid/cats\n",
    "!mkdir sample/test"
   ]
  },
  {
   "cell_type": "code",
   "execution_count": 116,
   "metadata": {
    "collapsed": false
   },
   "outputs": [
    {
     "data": {
      "text/plain": [
       "'/gpfs/global_fs01/sym_shared/YPProdSpark/user/s7c0-1e5ad2b4d891fd-5791133ac135/notebook/work/fastai_courses/deeplearning1/nbs/data/dogscats'"
      ]
     },
     "execution_count": 116,
     "metadata": {},
     "output_type": "execute_result"
    }
   ],
   "source": [
    "%pwd"
   ]
  },
  {
   "cell_type": "markdown",
   "metadata": {},
   "source": [
    "### The following copy (100, 100, 50, 50, 16) random images\n",
    "from directories: train/dogs, train/cats, valid/dogs, valid/cats, test  \n",
    "to directories: sample/train/dogs, sample/train/cats, sample/valid/dogs, sample/valid/cats, sample/test"
   ]
  },
  {
   "cell_type": "code",
   "execution_count": null,
   "metadata": {
    "collapsed": true
   },
   "outputs": [],
   "source": [
    "%cd train/dogs"
   ]
  },
  {
   "cell_type": "code",
   "execution_count": 120,
   "metadata": {
    "collapsed": true
   },
   "outputs": [
    {
     "name": "stdout",
     "output_type": "stream",
     "text": [
      "‘dog.11264.jpg’ -> ‘../../sample/train/dogs/dog.11264.jpg’\n",
      "‘dog.2191.jpg’ -> ‘../../sample/train/dogs/dog.2191.jpg’\n",
      "‘dog.7767.jpg’ -> ‘../../sample/train/dogs/dog.7767.jpg’\n",
      "‘dog.5063.jpg’ -> ‘../../sample/train/dogs/dog.5063.jpg’\n",
      "‘dog.1886.jpg’ -> ‘../../sample/train/dogs/dog.1886.jpg’\n",
      "‘dog.11657.jpg’ -> ‘../../sample/train/dogs/dog.11657.jpg’\n",
      "‘dog.1807.jpg’ -> ‘../../sample/train/dogs/dog.1807.jpg’\n",
      "‘dog.2636.jpg’ -> ‘../../sample/train/dogs/dog.2636.jpg’\n",
      "‘dog.4248.jpg’ -> ‘../../sample/train/dogs/dog.4248.jpg’\n",
      "‘dog.11228.jpg’ -> ‘../../sample/train/dogs/dog.11228.jpg’\n",
      "‘dog.5248.jpg’ -> ‘../../sample/train/dogs/dog.5248.jpg’\n",
      "‘dog.8228.jpg’ -> ‘../../sample/train/dogs/dog.8228.jpg’\n",
      "‘dog.10923.jpg’ -> ‘../../sample/train/dogs/dog.10923.jpg’\n",
      "‘dog.9951.jpg’ -> ‘../../sample/train/dogs/dog.9951.jpg’\n",
      "‘dog.10951.jpg’ -> ‘../../sample/train/dogs/dog.10951.jpg’\n",
      "‘dog.12463.jpg’ -> ‘../../sample/train/dogs/dog.12463.jpg’\n",
      "‘dog.4023.jpg’ -> ‘../../sample/train/dogs/dog.4023.jpg’\n",
      "‘dog.847.jpg’ -> ‘../../sample/train/dogs/dog.847.jpg’\n",
      "‘dog.6619.jpg’ -> ‘../../sample/train/dogs/dog.6619.jpg’\n",
      "‘dog.3854.jpg’ -> ‘../../sample/train/dogs/dog.3854.jpg’\n",
      "‘dog.6049.jpg’ -> ‘../../sample/train/dogs/dog.6049.jpg’\n",
      "‘dog.4878.jpg’ -> ‘../../sample/train/dogs/dog.4878.jpg’\n",
      "‘dog.4535.jpg’ -> ‘../../sample/train/dogs/dog.4535.jpg’\n",
      "‘dog.2488.jpg’ -> ‘../../sample/train/dogs/dog.2488.jpg’\n",
      "‘dog.5956.jpg’ -> ‘../../sample/train/dogs/dog.5956.jpg’\n",
      "‘dog.5287.jpg’ -> ‘../../sample/train/dogs/dog.5287.jpg’\n",
      "‘dog.6158.jpg’ -> ‘../../sample/train/dogs/dog.6158.jpg’\n",
      "‘dog.5269.jpg’ -> ‘../../sample/train/dogs/dog.5269.jpg’\n",
      "‘dog.4093.jpg’ -> ‘../../sample/train/dogs/dog.4093.jpg’\n",
      "‘dog.9617.jpg’ -> ‘../../sample/train/dogs/dog.9617.jpg’\n",
      "‘dog.9776.jpg’ -> ‘../../sample/train/dogs/dog.9776.jpg’\n",
      "‘dog.4645.jpg’ -> ‘../../sample/train/dogs/dog.4645.jpg’\n",
      "‘dog.7672.jpg’ -> ‘../../sample/train/dogs/dog.7672.jpg’\n",
      "‘dog.12489.jpg’ -> ‘../../sample/train/dogs/dog.12489.jpg’\n",
      "‘dog.1006.jpg’ -> ‘../../sample/train/dogs/dog.1006.jpg’\n",
      "‘dog.3460.jpg’ -> ‘../../sample/train/dogs/dog.3460.jpg’\n",
      "‘dog.6081.jpg’ -> ‘../../sample/train/dogs/dog.6081.jpg’\n",
      "‘dog.516.jpg’ -> ‘../../sample/train/dogs/dog.516.jpg’\n",
      "‘dog.8126.jpg’ -> ‘../../sample/train/dogs/dog.8126.jpg’\n",
      "‘dog.10717.jpg’ -> ‘../../sample/train/dogs/dog.10717.jpg’\n",
      "‘dog.8771.jpg’ -> ‘../../sample/train/dogs/dog.8771.jpg’\n",
      "‘dog.3563.jpg’ -> ‘../../sample/train/dogs/dog.3563.jpg’\n",
      "‘dog.5160.jpg’ -> ‘../../sample/train/dogs/dog.5160.jpg’\n",
      "‘dog.12191.jpg’ -> ‘../../sample/train/dogs/dog.12191.jpg’\n",
      "‘dog.11139.jpg’ -> ‘../../sample/train/dogs/dog.11139.jpg’\n",
      "‘dog.5708.jpg’ -> ‘../../sample/train/dogs/dog.5708.jpg’\n",
      "‘dog.2456.jpg’ -> ‘../../sample/train/dogs/dog.2456.jpg’\n",
      "‘dog.12149.jpg’ -> ‘../../sample/train/dogs/dog.12149.jpg’\n",
      "‘dog.7081.jpg’ -> ‘../../sample/train/dogs/dog.7081.jpg’\n",
      "‘dog.1697.jpg’ -> ‘../../sample/train/dogs/dog.1697.jpg’\n",
      "‘dog.6623.jpg’ -> ‘../../sample/train/dogs/dog.6623.jpg’\n",
      "‘dog.4751.jpg’ -> ‘../../sample/train/dogs/dog.4751.jpg’\n",
      "‘dog.9284.jpg’ -> ‘../../sample/train/dogs/dog.9284.jpg’\n",
      "‘dog.766.jpg’ -> ‘../../sample/train/dogs/dog.766.jpg’\n",
      "‘dog.7901.jpg’ -> ‘../../sample/train/dogs/dog.7901.jpg’\n",
      "‘dog.11721.jpg’ -> ‘../../sample/train/dogs/dog.11721.jpg’\n",
      "‘dog.1520.jpg’ -> ‘../../sample/train/dogs/dog.1520.jpg’\n",
      "‘dog.7736.jpg’ -> ‘../../sample/train/dogs/dog.7736.jpg’\n",
      "‘dog.1933.jpg’ -> ‘../../sample/train/dogs/dog.1933.jpg’\n",
      "‘dog.1981.jpg’ -> ‘../../sample/train/dogs/dog.1981.jpg’\n",
      "‘dog.8601.jpg’ -> ‘../../sample/train/dogs/dog.8601.jpg’\n",
      "‘dog.3641.jpg’ -> ‘../../sample/train/dogs/dog.3641.jpg’\n",
      "‘dog.157.jpg’ -> ‘../../sample/train/dogs/dog.157.jpg’\n",
      "‘dog.5070.jpg’ -> ‘../../sample/train/dogs/dog.5070.jpg’\n",
      "‘dog.7532.jpg’ -> ‘../../sample/train/dogs/dog.7532.jpg’\n",
      "‘dog.4169.jpg’ -> ‘../../sample/train/dogs/dog.4169.jpg’\n",
      "‘dog.9435.jpg’ -> ‘../../sample/train/dogs/dog.9435.jpg’\n",
      "‘dog.11803.jpg’ -> ‘../../sample/train/dogs/dog.11803.jpg’\n",
      "‘dog.4136.jpg’ -> ‘../../sample/train/dogs/dog.4136.jpg’\n",
      "‘dog.1800.jpg’ -> ‘../../sample/train/dogs/dog.1800.jpg’\n",
      "‘dog.6052.jpg’ -> ‘../../sample/train/dogs/dog.6052.jpg’\n",
      "‘dog.4637.jpg’ -> ‘../../sample/train/dogs/dog.4637.jpg’\n",
      "‘dog.4368.jpg’ -> ‘../../sample/train/dogs/dog.4368.jpg’\n",
      "‘dog.5130.jpg’ -> ‘../../sample/train/dogs/dog.5130.jpg’\n",
      "‘dog.1824.jpg’ -> ‘../../sample/train/dogs/dog.1824.jpg’\n",
      "‘dog.3745.jpg’ -> ‘../../sample/train/dogs/dog.3745.jpg’\n",
      "‘dog.6704.jpg’ -> ‘../../sample/train/dogs/dog.6704.jpg’\n",
      "‘dog.11642.jpg’ -> ‘../../sample/train/dogs/dog.11642.jpg’\n",
      "‘dog.8414.jpg’ -> ‘../../sample/train/dogs/dog.8414.jpg’\n",
      "‘dog.11865.jpg’ -> ‘../../sample/train/dogs/dog.11865.jpg’\n",
      "‘dog.2891.jpg’ -> ‘../../sample/train/dogs/dog.2891.jpg’\n",
      "‘dog.11160.jpg’ -> ‘../../sample/train/dogs/dog.11160.jpg’\n",
      "‘dog.6984.jpg’ -> ‘../../sample/train/dogs/dog.6984.jpg’\n",
      "‘dog.8322.jpg’ -> ‘../../sample/train/dogs/dog.8322.jpg’\n",
      "‘dog.9824.jpg’ -> ‘../../sample/train/dogs/dog.9824.jpg’\n",
      "‘dog.10020.jpg’ -> ‘../../sample/train/dogs/dog.10020.jpg’\n",
      "‘dog.1450.jpg’ -> ‘../../sample/train/dogs/dog.1450.jpg’\n",
      "‘dog.9475.jpg’ -> ‘../../sample/train/dogs/dog.9475.jpg’\n",
      "‘dog.6480.jpg’ -> ‘../../sample/train/dogs/dog.6480.jpg’\n",
      "‘dog.6142.jpg’ -> ‘../../sample/train/dogs/dog.6142.jpg’\n",
      "‘dog.5974.jpg’ -> ‘../../sample/train/dogs/dog.5974.jpg’\n",
      "‘dog.7158.jpg’ -> ‘../../sample/train/dogs/dog.7158.jpg’\n",
      "‘dog.11473.jpg’ -> ‘../../sample/train/dogs/dog.11473.jpg’\n",
      "‘dog.11178.jpg’ -> ‘../../sample/train/dogs/dog.11178.jpg’\n",
      "‘dog.1641.jpg’ -> ‘../../sample/train/dogs/dog.1641.jpg’\n",
      "‘dog.2096.jpg’ -> ‘../../sample/train/dogs/dog.2096.jpg’\n",
      "‘dog.960.jpg’ -> ‘../../sample/train/dogs/dog.960.jpg’\n",
      "‘dog.10186.jpg’ -> ‘../../sample/train/dogs/dog.10186.jpg’\n",
      "‘dog.794.jpg’ -> ‘../../sample/train/dogs/dog.794.jpg’\n",
      "‘dog.9970.jpg’ -> ‘../../sample/train/dogs/dog.9970.jpg’\n"
     ]
    }
   ],
   "source": [
    "%%bash\n",
    "\n",
    "sourceDir=\"./\"\n",
    "targetDir=\"../../sample/train/dogs\"\n",
    "number=\"100\"\n",
    "\n",
    "## Collect all file and directory names. The globstar\n",
    "## bash option lets ** match all files and directories\n",
    "## recursively\n",
    "shopt -s globstar\n",
    "dirsAndFiles=( ** )\n",
    "\n",
    "## Get $num random numbers from 0 until\n",
    "## the number of files and dirs found. This\n",
    "## will let us take a random selection.\n",
    "limit=$((${#dirsAndFiles[@]}-1))  \n",
    "numbers=$(shuf -i 0-\"$limit\" -n \"$number\")\n",
    "\n",
    "for num in $numbers; do\n",
    "    cp -rv \"${dirsAndFiles[$num]}\" \"$targetDir\"\n",
    "done"
   ]
  },
  {
   "cell_type": "code",
   "execution_count": 122,
   "metadata": {
    "collapsed": false
   },
   "outputs": [
    {
     "name": "stdout",
     "output_type": "stream",
     "text": [
      "100\r\n"
     ]
    }
   ],
   "source": [
    "!ls -1 ../../sample/train/dogs | wc -l"
   ]
  },
  {
   "cell_type": "code",
   "execution_count": 123,
   "metadata": {
    "collapsed": false,
    "scrolled": false
   },
   "outputs": [
    {
     "name": "stdout",
     "output_type": "stream",
     "text": [
      "/gpfs/global_fs01/sym_shared/YPProdSpark/user/s7c0-1e5ad2b4d891fd-5791133ac135/notebook/work/fastai_courses/deeplearning1/nbs/data/dogscats/train\n"
     ]
    }
   ],
   "source": [
    "%cd .."
   ]
  },
  {
   "cell_type": "code",
   "execution_count": 124,
   "metadata": {
    "collapsed": false
   },
   "outputs": [
    {
     "name": "stdout",
     "output_type": "stream",
     "text": [
      "/gpfs/global_fs01/sym_shared/YPProdSpark/user/s7c0-1e5ad2b4d891fd-5791133ac135/notebook/work/fastai_courses/deeplearning1/nbs/data/dogscats/train/cats\n"
     ]
    }
   ],
   "source": [
    "%cd cats"
   ]
  },
  {
   "cell_type": "code",
   "execution_count": 125,
   "metadata": {
    "collapsed": true
   },
   "outputs": [
    {
     "name": "stdout",
     "output_type": "stream",
     "text": [
      "‘cat.1814.jpg’ -> ‘../../sample/train/cats/cat.1814.jpg’\n",
      "‘cat.212.jpg’ -> ‘../../sample/train/cats/cat.212.jpg’\n",
      "‘cat.10007.jpg’ -> ‘../../sample/train/cats/cat.10007.jpg’\n",
      "‘cat.3083.jpg’ -> ‘../../sample/train/cats/cat.3083.jpg’\n",
      "‘cat.10113.jpg’ -> ‘../../sample/train/cats/cat.10113.jpg’\n",
      "‘cat.5619.jpg’ -> ‘../../sample/train/cats/cat.5619.jpg’\n",
      "‘cat.8006.jpg’ -> ‘../../sample/train/cats/cat.8006.jpg’\n",
      "‘cat.3982.jpg’ -> ‘../../sample/train/cats/cat.3982.jpg’\n",
      "‘cat.3533.jpg’ -> ‘../../sample/train/cats/cat.3533.jpg’\n",
      "‘cat.8619.jpg’ -> ‘../../sample/train/cats/cat.8619.jpg’\n",
      "‘cat.10850.jpg’ -> ‘../../sample/train/cats/cat.10850.jpg’\n",
      "‘cat.11364.jpg’ -> ‘../../sample/train/cats/cat.11364.jpg’\n",
      "‘cat.1644.jpg’ -> ‘../../sample/train/cats/cat.1644.jpg’\n",
      "‘cat.9250.jpg’ -> ‘../../sample/train/cats/cat.9250.jpg’\n",
      "‘cat.1947.jpg’ -> ‘../../sample/train/cats/cat.1947.jpg’\n",
      "‘cat.9016.jpg’ -> ‘../../sample/train/cats/cat.9016.jpg’\n",
      "‘cat.4900.jpg’ -> ‘../../sample/train/cats/cat.4900.jpg’\n",
      "‘cat.4805.jpg’ -> ‘../../sample/train/cats/cat.4805.jpg’\n",
      "‘cat.442.jpg’ -> ‘../../sample/train/cats/cat.442.jpg’\n",
      "‘cat.8461.jpg’ -> ‘../../sample/train/cats/cat.8461.jpg’\n",
      "‘cat.8038.jpg’ -> ‘../../sample/train/cats/cat.8038.jpg’\n",
      "‘cat.11160.jpg’ -> ‘../../sample/train/cats/cat.11160.jpg’\n",
      "‘cat.2878.jpg’ -> ‘../../sample/train/cats/cat.2878.jpg’\n",
      "‘cat.4462.jpg’ -> ‘../../sample/train/cats/cat.4462.jpg’\n",
      "‘cat.8137.jpg’ -> ‘../../sample/train/cats/cat.8137.jpg’\n",
      "‘cat.3170.jpg’ -> ‘../../sample/train/cats/cat.3170.jpg’\n",
      "‘cat.6867.jpg’ -> ‘../../sample/train/cats/cat.6867.jpg’\n",
      "‘cat.5533.jpg’ -> ‘../../sample/train/cats/cat.5533.jpg’\n",
      "‘cat.9563.jpg’ -> ‘../../sample/train/cats/cat.9563.jpg’\n",
      "‘cat.5422.jpg’ -> ‘../../sample/train/cats/cat.5422.jpg’\n",
      "‘cat.1340.jpg’ -> ‘../../sample/train/cats/cat.1340.jpg’\n",
      "‘cat.6467.jpg’ -> ‘../../sample/train/cats/cat.6467.jpg’\n",
      "‘cat.3523.jpg’ -> ‘../../sample/train/cats/cat.3523.jpg’\n",
      "‘cat.9111.jpg’ -> ‘../../sample/train/cats/cat.9111.jpg’\n",
      "‘cat.9208.jpg’ -> ‘../../sample/train/cats/cat.9208.jpg’\n",
      "‘cat.3007.jpg’ -> ‘../../sample/train/cats/cat.3007.jpg’\n",
      "‘cat.9274.jpg’ -> ‘../../sample/train/cats/cat.9274.jpg’\n",
      "‘cat.8390.jpg’ -> ‘../../sample/train/cats/cat.8390.jpg’\n",
      "‘cat.2684.jpg’ -> ‘../../sample/train/cats/cat.2684.jpg’\n",
      "‘cat.5887.jpg’ -> ‘../../sample/train/cats/cat.5887.jpg’\n",
      "‘cat.4908.jpg’ -> ‘../../sample/train/cats/cat.4908.jpg’\n",
      "‘cat.997.jpg’ -> ‘../../sample/train/cats/cat.997.jpg’\n",
      "‘cat.7306.jpg’ -> ‘../../sample/train/cats/cat.7306.jpg’\n",
      "‘cat.5834.jpg’ -> ‘../../sample/train/cats/cat.5834.jpg’\n",
      "‘cat.2506.jpg’ -> ‘../../sample/train/cats/cat.2506.jpg’\n",
      "‘cat.6722.jpg’ -> ‘../../sample/train/cats/cat.6722.jpg’\n",
      "‘cat.12170.jpg’ -> ‘../../sample/train/cats/cat.12170.jpg’\n",
      "‘cat.8340.jpg’ -> ‘../../sample/train/cats/cat.8340.jpg’\n",
      "‘cat.11642.jpg’ -> ‘../../sample/train/cats/cat.11642.jpg’\n",
      "‘cat.6438.jpg’ -> ‘../../sample/train/cats/cat.6438.jpg’\n",
      "‘cat.8449.jpg’ -> ‘../../sample/train/cats/cat.8449.jpg’\n",
      "‘cat.6832.jpg’ -> ‘../../sample/train/cats/cat.6832.jpg’\n",
      "‘cat.7273.jpg’ -> ‘../../sample/train/cats/cat.7273.jpg’\n",
      "‘cat.8714.jpg’ -> ‘../../sample/train/cats/cat.8714.jpg’\n",
      "‘cat.12086.jpg’ -> ‘../../sample/train/cats/cat.12086.jpg’\n",
      "‘cat.1143.jpg’ -> ‘../../sample/train/cats/cat.1143.jpg’\n",
      "‘cat.1149.jpg’ -> ‘../../sample/train/cats/cat.1149.jpg’\n",
      "‘cat.7017.jpg’ -> ‘../../sample/train/cats/cat.7017.jpg’\n",
      "‘cat.7548.jpg’ -> ‘../../sample/train/cats/cat.7548.jpg’\n",
      "‘cat.1621.jpg’ -> ‘../../sample/train/cats/cat.1621.jpg’\n",
      "‘cat.3085.jpg’ -> ‘../../sample/train/cats/cat.3085.jpg’\n",
      "‘cat.3758.jpg’ -> ‘../../sample/train/cats/cat.3758.jpg’\n",
      "‘cat.2286.jpg’ -> ‘../../sample/train/cats/cat.2286.jpg’\n",
      "‘cat.6594.jpg’ -> ‘../../sample/train/cats/cat.6594.jpg’\n",
      "‘cat.870.jpg’ -> ‘../../sample/train/cats/cat.870.jpg’\n",
      "‘cat.8112.jpg’ -> ‘../../sample/train/cats/cat.8112.jpg’\n",
      "‘cat.6803.jpg’ -> ‘../../sample/train/cats/cat.6803.jpg’\n",
      "‘cat.6868.jpg’ -> ‘../../sample/train/cats/cat.6868.jpg’\n",
      "‘cat.6998.jpg’ -> ‘../../sample/train/cats/cat.6998.jpg’\n",
      "‘cat.2834.jpg’ -> ‘../../sample/train/cats/cat.2834.jpg’\n",
      "‘cat.11089.jpg’ -> ‘../../sample/train/cats/cat.11089.jpg’\n",
      "‘cat.1336.jpg’ -> ‘../../sample/train/cats/cat.1336.jpg’\n",
      "‘cat.6793.jpg’ -> ‘../../sample/train/cats/cat.6793.jpg’\n",
      "‘cat.6205.jpg’ -> ‘../../sample/train/cats/cat.6205.jpg’\n",
      "‘cat.2646.jpg’ -> ‘../../sample/train/cats/cat.2646.jpg’\n",
      "‘cat.2978.jpg’ -> ‘../../sample/train/cats/cat.2978.jpg’\n",
      "‘cat.193.jpg’ -> ‘../../sample/train/cats/cat.193.jpg’\n",
      "‘cat.11633.jpg’ -> ‘../../sample/train/cats/cat.11633.jpg’\n",
      "‘cat.581.jpg’ -> ‘../../sample/train/cats/cat.581.jpg’\n",
      "‘cat.7625.jpg’ -> ‘../../sample/train/cats/cat.7625.jpg’\n",
      "‘cat.63.jpg’ -> ‘../../sample/train/cats/cat.63.jpg’\n",
      "‘cat.2454.jpg’ -> ‘../../sample/train/cats/cat.2454.jpg’\n",
      "‘cat.8980.jpg’ -> ‘../../sample/train/cats/cat.8980.jpg’\n",
      "‘cat.416.jpg’ -> ‘../../sample/train/cats/cat.416.jpg’\n",
      "‘cat.11668.jpg’ -> ‘../../sample/train/cats/cat.11668.jpg’\n",
      "‘cat.5527.jpg’ -> ‘../../sample/train/cats/cat.5527.jpg’\n",
      "‘cat.4459.jpg’ -> ‘../../sample/train/cats/cat.4459.jpg’\n",
      "‘cat.11761.jpg’ -> ‘../../sample/train/cats/cat.11761.jpg’\n",
      "‘cat.4663.jpg’ -> ‘../../sample/train/cats/cat.4663.jpg’\n",
      "‘cat.2554.jpg’ -> ‘../../sample/train/cats/cat.2554.jpg’\n",
      "‘cat.3324.jpg’ -> ‘../../sample/train/cats/cat.3324.jpg’\n",
      "‘cat.8944.jpg’ -> ‘../../sample/train/cats/cat.8944.jpg’\n",
      "‘cat.9398.jpg’ -> ‘../../sample/train/cats/cat.9398.jpg’\n",
      "‘cat.2361.jpg’ -> ‘../../sample/train/cats/cat.2361.jpg’\n",
      "‘cat.9954.jpg’ -> ‘../../sample/train/cats/cat.9954.jpg’\n",
      "‘cat.4426.jpg’ -> ‘../../sample/train/cats/cat.4426.jpg’\n",
      "‘cat.7711.jpg’ -> ‘../../sample/train/cats/cat.7711.jpg’\n",
      "‘cat.8186.jpg’ -> ‘../../sample/train/cats/cat.8186.jpg’\n",
      "‘cat.5235.jpg’ -> ‘../../sample/train/cats/cat.5235.jpg’\n",
      "‘cat.1538.jpg’ -> ‘../../sample/train/cats/cat.1538.jpg’\n"
     ]
    }
   ],
   "source": [
    "%%bash\n",
    "\n",
    "sourceDir=\"./\"\n",
    "targetDir=\"../../sample/train/cats\"\n",
    "number=\"100\"\n",
    "\n",
    "## Collect all file and directory names. The globstar\n",
    "## bash option lets ** match all files and directories\n",
    "## recursively\n",
    "shopt -s globstar\n",
    "dirsAndFiles=( ** )\n",
    "\n",
    "## Get $num random numbers from 0 until\n",
    "## the number of files and dirs found. This\n",
    "## will let us take a random selection.\n",
    "limit=$((${#dirsAndFiles[@]}-1))  \n",
    "numbers=$(shuf -i 0-\"$limit\" -n \"$number\")\n",
    "\n",
    "for num in $numbers; do\n",
    "    cp -rv \"${dirsAndFiles[$num]}\" \"$targetDir\"\n",
    "done"
   ]
  },
  {
   "cell_type": "code",
   "execution_count": 126,
   "metadata": {
    "collapsed": false
   },
   "outputs": [
    {
     "name": "stdout",
     "output_type": "stream",
     "text": [
      "100\r\n"
     ]
    }
   ],
   "source": [
    "%ls -1 ../../sample/train/cats | wc -l"
   ]
  },
  {
   "cell_type": "code",
   "execution_count": 128,
   "metadata": {
    "collapsed": false
   },
   "outputs": [
    {
     "name": "stdout",
     "output_type": "stream",
     "text": [
      "/gpfs/global_fs01/sym_shared/YPProdSpark/user/s7c0-1e5ad2b4d891fd-5791133ac135/notebook/work/fastai_courses/deeplearning1/nbs/data/dogscats\n"
     ]
    }
   ],
   "source": [
    "%cd ../../"
   ]
  },
  {
   "cell_type": "code",
   "execution_count": 129,
   "metadata": {
    "collapsed": false
   },
   "outputs": [
    {
     "name": "stdout",
     "output_type": "stream",
     "text": [
      "\u001b[0m\u001b[01;34mmodels\u001b[0m/  \u001b[01;34msample\u001b[0m/  \u001b[01;34mtest1\u001b[0m/  \u001b[01;34mtrain\u001b[0m/  \u001b[01;34mvalid\u001b[0m/\r\n"
     ]
    }
   ],
   "source": [
    "%ls"
   ]
  },
  {
   "cell_type": "code",
   "execution_count": 130,
   "metadata": {
    "collapsed": false
   },
   "outputs": [
    {
     "name": "stdout",
     "output_type": "stream",
     "text": [
      "/gpfs/global_fs01/sym_shared/YPProdSpark/user/s7c0-1e5ad2b4d891fd-5791133ac135/notebook/work/fastai_courses/deeplearning1/nbs/data/dogscats/valid/dogs\n"
     ]
    }
   ],
   "source": [
    "%cd valid/dogs"
   ]
  },
  {
   "cell_type": "code",
   "execution_count": 131,
   "metadata": {
    "collapsed": true
   },
   "outputs": [
    {
     "name": "stdout",
     "output_type": "stream",
     "text": [
      "‘dog.6635.jpg’ -> ‘../../sample/valid/dogs/dog.6635.jpg’\n",
      "‘dog.6194.jpg’ -> ‘../../sample/valid/dogs/dog.6194.jpg’\n",
      "‘dog.9599.jpg’ -> ‘../../sample/valid/dogs/dog.9599.jpg’\n",
      "‘dog.720.jpg’ -> ‘../../sample/valid/dogs/dog.720.jpg’\n",
      "‘dog.5564.jpg’ -> ‘../../sample/valid/dogs/dog.5564.jpg’\n",
      "‘dog.1150.jpg’ -> ‘../../sample/valid/dogs/dog.1150.jpg’\n",
      "‘dog.9660.jpg’ -> ‘../../sample/valid/dogs/dog.9660.jpg’\n",
      "‘dog.2383.jpg’ -> ‘../../sample/valid/dogs/dog.2383.jpg’\n",
      "‘dog.10038.jpg’ -> ‘../../sample/valid/dogs/dog.10038.jpg’\n",
      "‘dog.8496.jpg’ -> ‘../../sample/valid/dogs/dog.8496.jpg’\n",
      "‘dog.8034.jpg’ -> ‘../../sample/valid/dogs/dog.8034.jpg’\n",
      "‘dog.10964.jpg’ -> ‘../../sample/valid/dogs/dog.10964.jpg’\n",
      "‘dog.3150.jpg’ -> ‘../../sample/valid/dogs/dog.3150.jpg’\n",
      "‘dog.2560.jpg’ -> ‘../../sample/valid/dogs/dog.2560.jpg’\n",
      "‘dog.6759.jpg’ -> ‘../../sample/valid/dogs/dog.6759.jpg’\n",
      "‘dog.2460.jpg’ -> ‘../../sample/valid/dogs/dog.2460.jpg’\n",
      "‘dog.2228.jpg’ -> ‘../../sample/valid/dogs/dog.2228.jpg’\n",
      "‘dog.8029.jpg’ -> ‘../../sample/valid/dogs/dog.8029.jpg’\n",
      "‘dog.11544.jpg’ -> ‘../../sample/valid/dogs/dog.11544.jpg’\n",
      "‘dog.9843.jpg’ -> ‘../../sample/valid/dogs/dog.9843.jpg’\n",
      "‘dog.4106.jpg’ -> ‘../../sample/valid/dogs/dog.4106.jpg’\n",
      "‘dog.4242.jpg’ -> ‘../../sample/valid/dogs/dog.4242.jpg’\n",
      "‘dog.10418.jpg’ -> ‘../../sample/valid/dogs/dog.10418.jpg’\n",
      "‘dog.8385.jpg’ -> ‘../../sample/valid/dogs/dog.8385.jpg’\n",
      "‘dog.7822.jpg’ -> ‘../../sample/valid/dogs/dog.7822.jpg’\n",
      "‘dog.5397.jpg’ -> ‘../../sample/valid/dogs/dog.5397.jpg’\n",
      "‘dog.10204.jpg’ -> ‘../../sample/valid/dogs/dog.10204.jpg’\n",
      "‘dog.196.jpg’ -> ‘../../sample/valid/dogs/dog.196.jpg’\n",
      "‘dog.5722.jpg’ -> ‘../../sample/valid/dogs/dog.5722.jpg’\n",
      "‘dog.5044.jpg’ -> ‘../../sample/valid/dogs/dog.5044.jpg’\n",
      "‘dog.10301.jpg’ -> ‘../../sample/valid/dogs/dog.10301.jpg’\n",
      "‘dog.11409.jpg’ -> ‘../../sample/valid/dogs/dog.11409.jpg’\n",
      "‘dog.8008.jpg’ -> ‘../../sample/valid/dogs/dog.8008.jpg’\n",
      "‘dog.5724.jpg’ -> ‘../../sample/valid/dogs/dog.5724.jpg’\n",
      "‘dog.2960.jpg’ -> ‘../../sample/valid/dogs/dog.2960.jpg’\n",
      "‘dog.11752.jpg’ -> ‘../../sample/valid/dogs/dog.11752.jpg’\n",
      "‘dog.1014.jpg’ -> ‘../../sample/valid/dogs/dog.1014.jpg’\n",
      "‘dog.7312.jpg’ -> ‘../../sample/valid/dogs/dog.7312.jpg’\n",
      "‘dog.4827.jpg’ -> ‘../../sample/valid/dogs/dog.4827.jpg’\n",
      "‘dog.10345.jpg’ -> ‘../../sample/valid/dogs/dog.10345.jpg’\n",
      "‘dog.8073.jpg’ -> ‘../../sample/valid/dogs/dog.8073.jpg’\n",
      "‘dog.477.jpg’ -> ‘../../sample/valid/dogs/dog.477.jpg’\n",
      "‘dog.6282.jpg’ -> ‘../../sample/valid/dogs/dog.6282.jpg’\n",
      "‘dog.4026.jpg’ -> ‘../../sample/valid/dogs/dog.4026.jpg’\n",
      "‘dog.8054.jpg’ -> ‘../../sample/valid/dogs/dog.8054.jpg’\n",
      "‘dog.6023.jpg’ -> ‘../../sample/valid/dogs/dog.6023.jpg’\n",
      "‘dog.405.jpg’ -> ‘../../sample/valid/dogs/dog.405.jpg’\n",
      "‘dog.1984.jpg’ -> ‘../../sample/valid/dogs/dog.1984.jpg’\n",
      "‘dog.11696.jpg’ -> ‘../../sample/valid/dogs/dog.11696.jpg’\n",
      "‘dog.8025.jpg’ -> ‘../../sample/valid/dogs/dog.8025.jpg’\n"
     ]
    }
   ],
   "source": [
    "%%bash\n",
    "\n",
    "sourceDir=\"./\"\n",
    "targetDir=\"../../sample/valid/dogs\"\n",
    "number=\"50\"\n",
    "\n",
    "## Collect all file and directory names. The globstar\n",
    "## bash option lets ** match all files and directories\n",
    "## recursively\n",
    "shopt -s globstar\n",
    "dirsAndFiles=( ** )\n",
    "\n",
    "## Get $num random numbers from 0 until\n",
    "## the number of files and dirs found. This\n",
    "## will let us take a random selection.\n",
    "limit=$((${#dirsAndFiles[@]}-1))  \n",
    "numbers=$(shuf -i 0-\"$limit\" -n \"$number\")\n",
    "\n",
    "for num in $numbers; do\n",
    "    cp -rv \"${dirsAndFiles[$num]}\" \"$targetDir\"\n",
    "done"
   ]
  },
  {
   "cell_type": "code",
   "execution_count": 132,
   "metadata": {
    "collapsed": false,
    "scrolled": true
   },
   "outputs": [
    {
     "name": "stdout",
     "output_type": "stream",
     "text": [
      "50\r\n"
     ]
    }
   ],
   "source": [
    "!ls -1 ../../sample/valid/dogs | wc -l"
   ]
  },
  {
   "cell_type": "code",
   "execution_count": 133,
   "metadata": {
    "collapsed": false,
    "scrolled": true
   },
   "outputs": [
    {
     "name": "stdout",
     "output_type": "stream",
     "text": [
      "/gpfs/global_fs01/sym_shared/YPProdSpark/user/s7c0-1e5ad2b4d891fd-5791133ac135/notebook/work/fastai_courses/deeplearning1/nbs/data/dogscats/valid/cats\n"
     ]
    }
   ],
   "source": [
    "%cd ../cats"
   ]
  },
  {
   "cell_type": "code",
   "execution_count": 134,
   "metadata": {
    "collapsed": true
   },
   "outputs": [
    {
     "name": "stdout",
     "output_type": "stream",
     "text": [
      "‘cat.3816.jpg’ -> ‘../../sample/valid/cats/cat.3816.jpg’\n",
      "‘cat.11981.jpg’ -> ‘../../sample/valid/cats/cat.11981.jpg’\n",
      "‘cat.2622.jpg’ -> ‘../../sample/valid/cats/cat.2622.jpg’\n",
      "‘cat.1648.jpg’ -> ‘../../sample/valid/cats/cat.1648.jpg’\n",
      "‘cat.9631.jpg’ -> ‘../../sample/valid/cats/cat.9631.jpg’\n",
      "‘cat.7318.jpg’ -> ‘../../sample/valid/cats/cat.7318.jpg’\n",
      "‘cat.1087.jpg’ -> ‘../../sample/valid/cats/cat.1087.jpg’\n",
      "‘cat.4690.jpg’ -> ‘../../sample/valid/cats/cat.4690.jpg’\n",
      "‘cat.1307.jpg’ -> ‘../../sample/valid/cats/cat.1307.jpg’\n",
      "‘cat.4700.jpg’ -> ‘../../sample/valid/cats/cat.4700.jpg’\n",
      "‘cat.7325.jpg’ -> ‘../../sample/valid/cats/cat.7325.jpg’\n",
      "‘cat.10822.jpg’ -> ‘../../sample/valid/cats/cat.10822.jpg’\n",
      "‘cat.12391.jpg’ -> ‘../../sample/valid/cats/cat.12391.jpg’\n",
      "‘cat.12019.jpg’ -> ‘../../sample/valid/cats/cat.12019.jpg’\n",
      "‘cat.5074.jpg’ -> ‘../../sample/valid/cats/cat.5074.jpg’\n",
      "‘cat.694.jpg’ -> ‘../../sample/valid/cats/cat.694.jpg’\n",
      "‘cat.3403.jpg’ -> ‘../../sample/valid/cats/cat.3403.jpg’\n",
      "‘cat.1711.jpg’ -> ‘../../sample/valid/cats/cat.1711.jpg’\n",
      "‘cat.11444.jpg’ -> ‘../../sample/valid/cats/cat.11444.jpg’\n",
      "‘cat.1158.jpg’ -> ‘../../sample/valid/cats/cat.1158.jpg’\n",
      "‘cat.4807.jpg’ -> ‘../../sample/valid/cats/cat.4807.jpg’\n",
      "‘cat.5499.jpg’ -> ‘../../sample/valid/cats/cat.5499.jpg’\n",
      "‘cat.11627.jpg’ -> ‘../../sample/valid/cats/cat.11627.jpg’\n",
      "‘cat.6420.jpg’ -> ‘../../sample/valid/cats/cat.6420.jpg’\n",
      "‘cat.4102.jpg’ -> ‘../../sample/valid/cats/cat.4102.jpg’\n",
      "‘cat.811.jpg’ -> ‘../../sample/valid/cats/cat.811.jpg’\n",
      "‘cat.8162.jpg’ -> ‘../../sample/valid/cats/cat.8162.jpg’\n",
      "‘cat.2394.jpg’ -> ‘../../sample/valid/cats/cat.2394.jpg’\n",
      "‘cat.1703.jpg’ -> ‘../../sample/valid/cats/cat.1703.jpg’\n",
      "‘cat.10016.jpg’ -> ‘../../sample/valid/cats/cat.10016.jpg’\n",
      "‘cat.9579.jpg’ -> ‘../../sample/valid/cats/cat.9579.jpg’\n",
      "‘cat.12026.jpg’ -> ‘../../sample/valid/cats/cat.12026.jpg’\n",
      "‘cat.8020.jpg’ -> ‘../../sample/valid/cats/cat.8020.jpg’\n",
      "‘cat.9585.jpg’ -> ‘../../sample/valid/cats/cat.9585.jpg’\n",
      "‘cat.6647.jpg’ -> ‘../../sample/valid/cats/cat.6647.jpg’\n",
      "‘cat.6440.jpg’ -> ‘../../sample/valid/cats/cat.6440.jpg’\n",
      "‘cat.7947.jpg’ -> ‘../../sample/valid/cats/cat.7947.jpg’\n",
      "‘cat.3465.jpg’ -> ‘../../sample/valid/cats/cat.3465.jpg’\n",
      "‘cat.7243.jpg’ -> ‘../../sample/valid/cats/cat.7243.jpg’\n",
      "‘cat.6368.jpg’ -> ‘../../sample/valid/cats/cat.6368.jpg’\n",
      "‘cat.9832.jpg’ -> ‘../../sample/valid/cats/cat.9832.jpg’\n",
      "‘cat.4499.jpg’ -> ‘../../sample/valid/cats/cat.4499.jpg’\n",
      "‘cat.1932.jpg’ -> ‘../../sample/valid/cats/cat.1932.jpg’\n",
      "‘cat.12095.jpg’ -> ‘../../sample/valid/cats/cat.12095.jpg’\n",
      "‘cat.9000.jpg’ -> ‘../../sample/valid/cats/cat.9000.jpg’\n",
      "‘cat.2970.jpg’ -> ‘../../sample/valid/cats/cat.2970.jpg’\n",
      "‘cat.1752.jpg’ -> ‘../../sample/valid/cats/cat.1752.jpg’\n",
      "‘cat.7441.jpg’ -> ‘../../sample/valid/cats/cat.7441.jpg’\n",
      "‘cat.3503.jpg’ -> ‘../../sample/valid/cats/cat.3503.jpg’\n",
      "‘cat.1727.jpg’ -> ‘../../sample/valid/cats/cat.1727.jpg’\n"
     ]
    }
   ],
   "source": [
    "%%bash\n",
    "\n",
    "sourceDir=\"./\"\n",
    "targetDir=\"../../sample/valid/cats\"\n",
    "number=\"50\"\n",
    "\n",
    "## Collect all file and directory names. The globstar\n",
    "## bash option lets ** match all files and directories\n",
    "## recursively\n",
    "shopt -s globstar\n",
    "dirsAndFiles=( ** )\n",
    "\n",
    "## Get $num random numbers from 0 until\n",
    "## the number of files and dirs found. This\n",
    "## will let us take a random selection.\n",
    "limit=$((${#dirsAndFiles[@]}-1))  \n",
    "numbers=$(shuf -i 0-\"$limit\" -n \"$number\")\n",
    "\n",
    "for num in $numbers; do\n",
    "    cp -rv \"${dirsAndFiles[$num]}\" \"$targetDir\"\n",
    "done"
   ]
  },
  {
   "cell_type": "code",
   "execution_count": 135,
   "metadata": {
    "collapsed": false
   },
   "outputs": [
    {
     "name": "stdout",
     "output_type": "stream",
     "text": [
      "50\r\n"
     ]
    }
   ],
   "source": [
    "!ls -1 ../../sample/valid/cats | wc -l"
   ]
  },
  {
   "cell_type": "code",
   "execution_count": null,
   "metadata": {
    "collapsed": true
   },
   "outputs": [],
   "source": []
  },
  {
   "cell_type": "code",
   "execution_count": 136,
   "metadata": {
    "collapsed": false,
    "scrolled": true
   },
   "outputs": [
    {
     "name": "stdout",
     "output_type": "stream",
     "text": [
      "/gpfs/global_fs01/sym_shared/YPProdSpark/user/s7c0-1e5ad2b4d891fd-5791133ac135/notebook/work/fastai_courses/deeplearning1/nbs/data/dogscats/test1\n"
     ]
    }
   ],
   "source": [
    "%cd ../../test1"
   ]
  },
  {
   "cell_type": "code",
   "execution_count": 137,
   "metadata": {
    "collapsed": true
   },
   "outputs": [
    {
     "name": "stdout",
     "output_type": "stream",
     "text": [
      "‘871.jpg’ -> ‘../sample/test/871.jpg’\n",
      "‘1345.jpg’ -> ‘../sample/test/1345.jpg’\n",
      "‘6138.jpg’ -> ‘../sample/test/6138.jpg’\n",
      "‘11664.jpg’ -> ‘../sample/test/11664.jpg’\n",
      "‘9295.jpg’ -> ‘../sample/test/9295.jpg’\n",
      "‘2406.jpg’ -> ‘../sample/test/2406.jpg’\n",
      "‘4866.jpg’ -> ‘../sample/test/4866.jpg’\n",
      "‘8478.jpg’ -> ‘../sample/test/8478.jpg’\n",
      "‘10772.jpg’ -> ‘../sample/test/10772.jpg’\n",
      "‘4185.jpg’ -> ‘../sample/test/4185.jpg’\n",
      "‘7099.jpg’ -> ‘../sample/test/7099.jpg’\n",
      "‘8094.jpg’ -> ‘../sample/test/8094.jpg’\n",
      "‘1871.jpg’ -> ‘../sample/test/1871.jpg’\n",
      "‘9259.jpg’ -> ‘../sample/test/9259.jpg’\n",
      "‘3217.jpg’ -> ‘../sample/test/3217.jpg’\n",
      "‘3259.jpg’ -> ‘../sample/test/3259.jpg’\n"
     ]
    }
   ],
   "source": [
    "%%bash\n",
    "\n",
    "sourceDir=\"./\"\n",
    "targetDir=\"../sample/test\"\n",
    "number=\"16\"\n",
    "\n",
    "## Collect all file and directory names. The globstar\n",
    "## bash option lets ** match all files and directories\n",
    "## recursively\n",
    "shopt -s globstar\n",
    "dirsAndFiles=( ** )\n",
    "\n",
    "## Get $num random numbers from 0 until\n",
    "## the number of files and dirs found. This\n",
    "## will let us take a random selection.\n",
    "limit=$((${#dirsAndFiles[@]}-1))  \n",
    "numbers=$(shuf -i 0-\"$limit\" -n \"$number\")\n",
    "\n",
    "for num in $numbers; do\n",
    "    cp -rv \"${dirsAndFiles[$num]}\" \"$targetDir\"\n",
    "done"
   ]
  },
  {
   "cell_type": "code",
   "execution_count": 138,
   "metadata": {
    "collapsed": false
   },
   "outputs": [
    {
     "name": "stdout",
     "output_type": "stream",
     "text": [
      "16\r\n"
     ]
    }
   ],
   "source": [
    "!ls -1 ../sample/test | wc -l"
   ]
  },
  {
   "cell_type": "markdown",
   "metadata": {
    "collapsed": true
   },
   "source": [
    "## Now download dogs vs cats redux from Kaggle and prepare data similar to dogs vs cats"
   ]
  },
  {
   "cell_type": "code",
   "execution_count": null,
   "metadata": {
    "collapsed": true
   },
   "outputs": [],
   "source": [
    "%%bash\n",
    "mkdir ~/bin\n",
    "cp randomCopy ~/bin\n",
    "cp randomMove ~/bin\n",
    "chmod a+x ~/bin/randomCopy\n",
    "chmod a+x ~/bin/randomMove\n",
    "\n",
    "cd ~/fastai_courses/deeplearning1/nbs/data\n",
    "mkdir -p dogscatsredux/test\n",
    "cd dogscatsredux\n",
    "\n",
    "pip install kaggle-cli\n",
    "kg config -g -u `ohassan` -p `1etmeinBaby` -c `dogs-vs-cats-redux-kernels-edition`\n",
    "kg download\n",
    "\n",
    "sudo apt-get -update\n",
    "sudo apt install unzip\n",
    "unzip train.zip\n",
    "unzip test.zip -d ./test\n",
    "\n",
    "mkdir train/dogs\n",
    "mkdir train/cats\n",
    "mv train/dog.* train/dogs\n",
    "mv train/cat.* train/cats"
   ]
  },
  {
   "cell_type": "code",
   "execution_count": null,
   "metadata": {
    "collapsed": true
   },
   "outputs": [],
   "source": [
    "%%bash\n",
    "mkdir -p valid/dogs\n",
    "mkdir valid/cats\n",
    "randomMove train/dogs valid/dogs 1000\n",
    "randomMove train/cats valid/cats 1000\n",
    "\n",
    "mkdir -p sample/train/dogs\n",
    "mkdir -p sample/train/cats\n",
    "mkdir -p sample/valid/dogs\n",
    "mkdir -p sample/valid/cats\n",
    "mkdir -p sample/test/images\n",
    "\n",
    "randomCopy train/dogs sample/train/dogs 1000\n",
    "randomCopy train/cats sample/train/cats 1000\n",
    "randomCopy valid/dogs sample/valid/dogs 100\n",
    "randomCopy valid/cats sample/valid/cats 100\n",
    "randomCopy test/test sample/test/images 16"
   ]
  }
 ],
 "metadata": {
  "kernelspec": {
   "display_name": "Python [conda root]",
   "language": "python",
   "name": "conda-root-py"
  },
  "language_info": {
   "codemirror_mode": {
    "name": "ipython",
    "version": 2
   },
   "file_extension": ".py",
   "mimetype": "text/x-python",
   "name": "python",
   "nbconvert_exporter": "python",
   "pygments_lexer": "ipython2",
   "version": "2.7.12"
  }
 },
 "nbformat": 4,
 "nbformat_minor": 1
}
